{
 "cells": [
  {
   "cell_type": "markdown",
   "id": "1f3680aa",
   "metadata": {},
   "source": [
    "This notebook shows how we transform ANN 7 from keras into pytorch "
   ]
  },
  {
   "cell_type": "code",
   "execution_count": 1,
   "id": "1d9f43a9-194f-4e83-bea3-87b3b8642e43",
   "metadata": {},
   "outputs": [
    {
     "name": "stderr",
     "output_type": "stream",
     "text": [
      "2023-06-29 14:12:31.730535: I tensorflow/core/platform/cpu_feature_guard.cc:193] This TensorFlow binary is optimized with oneAPI Deep Neural Network Library (oneDNN) to use the following CPU instructions in performance-critical operations:  SSE4.1 SSE4.2 AVX AVX2 FMA\n",
      "To enable them in other operations, rebuild TensorFlow with the appropriate compiler flags.\n"
     ]
    }
   ],
   "source": [
    "import tensorflow as tf\n",
    "from cbrain import *\n",
    "import torch as to\n",
    "from tensorflow.keras.layers import Input, Dense, Concatenate, Lambda,Dropout\n",
    "from cbrain.layers import *\n",
    "from tensorflow.keras.models import Model\n",
    "from tensorflow.keras.losses import mse\n",
    "from tensorflow.keras.utils import plot_model\n",
    "from tensorflow.keras import backend as K\n",
    "from tensorflow.keras.callbacks import LearningRateScheduler\n",
    "\n",
    "\n",
    "import numpy as np\n",
    "import matplotlib.pyplot as plt\n",
    "import argparse\n",
    "import os\n",
    "import xarray as xr\n",
    "\n",
    "import tensorflow.keras as ke\n",
    "\n",
    "\n",
    "from cbrain.imports import *\n",
    "\n",
    "from cbrain.utils import *\n",
    "\n",
    "from cbrain.cam_constants import *\n",
    "\n",
    "from cbrain.data_generator import DataGenerator\n",
    "import pandas as ps"
   ]
  },
  {
   "cell_type": "code",
   "execution_count": 2,
   "id": "35682b1a",
   "metadata": {},
   "outputs": [],
   "source": [
    "# define some hyperparameters \n",
    "\n",
    "original_dim_input=109  # CBRAIN input node size\n",
    "\n",
    "original_dim_output=int(112) # CBRAIN output node size \n",
    "\n",
    "\n",
    "input_shape = (original_dim_input,)\n",
    "out_shape=(original_dim_output,)\n",
    "intermediate_dim = 279\n",
    "\n",
    "batch_size= 7800\n",
    "\n",
    "\n",
    "\n"
   ]
  },
  {
   "cell_type": "code",
   "execution_count": 4,
   "id": "952b7b7b-d4ea-408d-9047-e9567da3729e",
   "metadata": {},
   "outputs": [
    {
     "name": "stdout",
     "output_type": "stream",
     "text": [
      "Model: \"ANN\"\n",
      "_________________________________________________________________\n",
      " Layer (type)                Output Shape              Param #   \n",
      "=================================================================\n",
      " encoder_input (InputLayer)  [(None, 109)]             0         \n",
      "                                                                 \n",
      " dense (Dense)               (None, 279)               30690     \n",
      "                                                                 \n",
      " dense_1 (Dense)             (None, 279)               78120     \n",
      "                                                                 \n",
      " dense_2 (Dense)             (None, 279)               78120     \n",
      "                                                                 \n",
      " dense_3 (Dense)             (None, 279)               78120     \n",
      "                                                                 \n",
      " dense_4 (Dense)             (None, 279)               78120     \n",
      "                                                                 \n",
      " dense_5 (Dense)             (None, 279)               78120     \n",
      "                                                                 \n",
      " dense_6 (Dense)             (None, 279)               78120     \n",
      "                                                                 \n",
      " dense_7 (Dense)             (None, 279)               78120     \n",
      "                                                                 \n",
      " dense_8 (Dense)             (None, 112)               31360     \n",
      "                                                                 \n",
      " dense_9 (Dense)             (None, 112)               12656     \n",
      "                                                                 \n",
      "=================================================================\n",
      "Total params: 621,546\n",
      "Trainable params: 621,546\n",
      "Non-trainable params: 0\n",
      "_________________________________________________________________\n"
     ]
    },
    {
     "name": "stderr",
     "output_type": "stream",
     "text": [
      "2023-06-29 14:13:40.569674: I tensorflow/core/platform/cpu_feature_guard.cc:193] This TensorFlow binary is optimized with oneAPI Deep Neural Network Library (oneDNN) to use the following CPU instructions in performance-critical operations:  SSE4.1 SSE4.2 AVX AVX2 FMA\n",
      "To enable them in other operations, rebuild TensorFlow with the appropriate compiler flags.\n"
     ]
    }
   ],
   "source": [
    "# load keras model \n",
    "ANN_7=ke.models.load_model('real_geography/ANNs/ANNs_lin/ANN_7/ANN_7_CRM_lin_models.h5')\n",
    "ANN_7.summary()\n",
    "ANN_7_weights=ANN_7.get_weights()\n",
    "\n",
    "batch_size= 7800\n"
   ]
  },
  {
   "cell_type": "markdown",
   "id": "d2a68b58",
   "metadata": {},
   "source": [
    "import pytorch model "
   ]
  },
  {
   "cell_type": "code",
   "execution_count": 6,
   "id": "27b30840-fc0e-484e-8e92-d81dd3bd950c",
   "metadata": {},
   "outputs": [],
   "source": [
    "import torch.nn as nn\n",
    "import torch.nn.functional as F"
   ]
  },
  {
   "cell_type": "code",
   "execution_count": 7,
   "id": "9e4c82df-f086-48f8-acde-1310c3d14e26",
   "metadata": {},
   "outputs": [],
   "source": [
    "# construct ANN 7 in pytorch\n",
    "\n",
    "class ANN(nn.Module):\n",
    "    def __init__(self):\n",
    "        super(ANN,self).__init__()\n",
    "        self.X_1=nn.Linear(109,323)\n",
    "        self.X_2=nn.Linear(323,323)\n",
    "        self.X_3=nn.Linear(323,323)\n",
    "        self.X_4=nn.Linear(323,323)\n",
    "        self.X_5=nn.Linear(323,323)\n",
    "        self.X_6=nn.Linear(323,323)\n",
    "        self.X_7=nn.Linear(323,323)\n",
    "        self.X_8=nn.Linear(323,323)\n",
    "        self.X_9=nn.Linear(323,112)\n",
    "        self.X_10=nn.Linear(112,112)\n",
    "\n",
    "    def forward(self,x):\n",
    "        x=F.elu_(self.X_1(x))\n",
    "        x=F.elu_(self.X_2(x))\n",
    "        x=F.elu_(self.X_3(x))\n",
    "        x=F.elu_(self.X_4(x))\n",
    "        x=F.elu_(self.X_5(x))\n",
    "        x=F.elu_(self.X_6(x))\n",
    "        x=F.elu_(self.X_7(x))\n",
    "        x=F.elu_(self.X_8(x))\n",
    "        x=F.elu_(self.X_9(x))\n",
    "        x=self.X_10(x)\n",
    "\n",
    "        \n",
    "        return x\n",
    "    \n",
    "    \n",
    "        \n",
    "\n",
    "\n",
    "\n",
    "        \n"
   ]
  },
  {
   "cell_type": "code",
   "execution_count": 9,
   "id": "3768c24c-aae4-4a26-9a85-3b05631ab848",
   "metadata": {},
   "outputs": [
    {
     "name": "stdout",
     "output_type": "stream",
     "text": [
      "ANN(\n",
      "  (X_1): Linear(in_features=109, out_features=323, bias=True)\n",
      "  (X_2): Linear(in_features=323, out_features=323, bias=True)\n",
      "  (X_3): Linear(in_features=323, out_features=323, bias=True)\n",
      "  (X_4): Linear(in_features=323, out_features=323, bias=True)\n",
      "  (X_5): Linear(in_features=323, out_features=323, bias=True)\n",
      "  (X_6): Linear(in_features=323, out_features=323, bias=True)\n",
      "  (X_7): Linear(in_features=323, out_features=323, bias=True)\n",
      "  (X_8): Linear(in_features=323, out_features=323, bias=True)\n",
      "  (X_9): Linear(in_features=323, out_features=112, bias=True)\n",
      "  (X_10): Linear(in_features=112, out_features=112, bias=True)\n",
      ")\n"
     ]
    }
   ],
   "source": [
    "#initialize ANN 7 \n",
    "\n",
    "ANN_7_torch=ANN()\n",
    "print(ANN_7_torch)"
   ]
  },
  {
   "cell_type": "code",
   "execution_count": null,
   "id": "e97ca58c-f6e4-4ed0-a7a4-3a8819b1a22e",
   "metadata": {},
   "outputs": [],
   "source": [
    "\n",
    "\n",
    "\n"
   ]
  },
  {
   "cell_type": "code",
   "execution_count": null,
   "id": "16a4044a-42b1-42f6-b7f6-183130872921",
   "metadata": {},
   "outputs": [],
   "source": []
  },
  {
   "cell_type": "code",
   "execution_count": null,
   "id": "8d717d2d-cd4c-4b74-a52b-bf81d7cfa15c",
   "metadata": {},
   "outputs": [],
   "source": []
  },
  {
   "cell_type": "markdown",
   "id": "3e561469",
   "metadata": {},
   "source": [
    "load keras weights and biases into pytorch model"
   ]
  },
  {
   "cell_type": "code",
   "execution_count": 10,
   "id": "5e87f0ee-9594-4e58-8572-c0284ebecdc2",
   "metadata": {},
   "outputs": [],
   "source": [
    "ANN_7_torch.X_1.weight.data=to.from_numpy(np.transpose(ANN_7_weights[0]))\n",
    "ANN_7_torch.X_1.bias.data=to.from_numpy(np.transpose(ANN_7_weights[1]))\n",
    "ANN_7_torch.X_2.weight.data=to.from_numpy(np.transpose(ANN_7_weights[2]))\n",
    "ANN_7_torch.X_2.bias.data=to.from_numpy(np.transpose(ANN_7_weights[3]))\n",
    "ANN_7_torch.X_3.weight.data=to.from_numpy(np.transpose(ANN_7_weights[4]))\n",
    "ANN_7_torch.X_3.bias.data=to.from_numpy(np.transpose(ANN_7_weights[5]))\n",
    "ANN_7_torch.X_4.weight.data=to.from_numpy(np.transpose(ANN_7_weights[6]))\n",
    "ANN_7_torch.X_4.bias.data=to.from_numpy(np.transpose(ANN_7_weights[7]))\n",
    "ANN_7_torch.X_5.weight.data=to.from_numpy(np.transpose(ANN_7_weights[8]))\n",
    "ANN_7_torch.X_5.bias.data=to.from_numpy(np.transpose(ANN_7_weights[9]))\n",
    "ANN_7_torch.X_6.weight.data=to.from_numpy(np.transpose(ANN_7_weights[10]))\n",
    "ANN_7_torch.X_6.bias.data=to.from_numpy(np.transpose(ANN_7_weights[11]))\n",
    "ANN_7_torch.X_7.weight.data=to.from_numpy(np.transpose(ANN_7_weights[12]))\n",
    "ANN_7_torch.X_7.bias.data=to.from_numpy(np.transpose(ANN_7_weights[13]))\n",
    "ANN_7_torch.X_8.weight.data=to.from_numpy(np.transpose(ANN_7_weights[14]))\n",
    "ANN_7_torch.X_8.bias.data=to.from_numpy(np.transpose(ANN_7_weights[15]))\n",
    "ANN_7_torch.X_9.weight.data=to.from_numpy(np.transpose(ANN_7_weights[16]))\n",
    "ANN_7_torch.X_9.bias.data=to.from_numpy(np.transpose(ANN_7_weights[17]))\n",
    "ANN_7_torch.X_10.weight.data=to.from_numpy(np.transpose(ANN_7_weights[18]))\n",
    "ANN_7_torch.X_10.bias.data=to.from_numpy(np.transpose(ANN_7_weights[19]))\n"
   ]
  },
  {
   "cell_type": "code",
   "execution_count": 11,
   "id": "05187a76-d4cd-49b6-bcd0-75aac782120b",
   "metadata": {},
   "outputs": [],
   "source": [
    "#define input and output vars \n",
    "\n",
    "in_vars = ['QBP', 'TBP','PS', 'SOLIN', 'SHFLX', 'LHFLX','PRECTt-dt','CLDLIQBP','CLDICEBP']\n",
    "out_vars = ['QBCTEND','TBCTEND','CLDLIQBCTEND','CLDICEBCTEND','PREC_CRM_SNOW','PREC_CRM',\n",
    "            'NN2L_FLWDS','NN2L_DOWN_SW','NN2L_SOLL','NN2L_SOLLD','NN2L_SOLS','NN2L_SOLSD']\n",
    "\n",
    "#loading the output normalization scalars for SP variables ( stds over 2 months of SP simulation)\n",
    "\n",
    "scale_array=ps.read_csv('nn_config/scale_dicts/real_geography_SP_vars_updt.csv')\n",
    "\n",
    "\n",
    "QBC_std_surf=scale_array.QBCTEND_std.values[-1]\n",
    "\n",
    "TBC_std=scale_array.TBCTEND_std.values[-1]\n",
    "CLDLIQBCTEND_std=scale_array.CLDLIQBCTEND_std.values[-1]\n",
    "CLDICEBCTEND_std=scale_array.CLDICEBCTEND_std.values[-1]\n",
    "\n",
    "\n",
    "PREC_CRM_SNOW_std=scale_array.PRECT_CRM_SNOW_std.values\n",
    "PREC_CRM_std=scale_array.PRECT_CRM_std.values\n",
    "\n",
    "NN2L_FLWDS_std=scale_array.NN2L_FLWDS_std.values\n",
    "NN2L_DOWN_SW_std=scale_array.NN2L_DOWN_SW_std.values\n",
    "NN2L_SOLL_std=scale_array.NN2L_SOLL_std.values\n",
    "NN2L_SOLLD_std=scale_array.NN2L_SOLLD_std.values\n",
    "NN2L_SOLS_std=scale_array.NN2L_SOLS_mean_std.values\n",
    "NN2L_SOLSD_std=scale_array.NN2L_SOLSD_mean_std.values\n",
    "\n",
    "\n",
    "\n",
    "\n",
    "\n",
    "# defining the scaling dict for the ANN training \n",
    "\n",
    "scale_dict_II = {\n",
    "    'QBCTEND': 1/QBC_std_surf, \n",
    "    'TBCTEND': 1/TBC_std, \n",
    "    'CLDICEBCTEND': 1/CLDICEBCTEND_std, \n",
    "    'CLDLIQBCTEND': 1/CLDLIQBCTEND_std, \n",
    "    'NN2L_FLWDS':1/NN2L_FLWDS_std,\n",
    "    'NN2L_DOWN_SW':1/NN2L_DOWN_SW_std,\n",
    "    'NN2L_SOLL':1/NN2L_SOLL_std,\n",
    "    'NN2L_SOLLD':1/NN2L_SOLLD_std,\n",
    "    'NN2L_SOLS':1/NN2L_SOLS_std,\n",
    "    'NN2L_SOLSD':1/NN2L_SOLSD_std,    \n",
    "    'PREC_CRM': 1/PREC_CRM_std,\n",
    "    'PREC_CRM_SNOW': 1/PREC_CRM_SNOW_std\n",
    "}\n",
    "\n",
    "\n",
    "\n",
    "\n",
    "#load vertical axis in pressure coords \n",
    "\n",
    "\n",
    "from cbrain.data_generator import DataGenerator\n",
    "\n",
    "test_xr=xr.open_dataset('/work/bd1179/from_Mistral/bd1179/b381624/CESM2_NN2_pelayout01_ens_07.cam.h1.2013-01-01-00000.nc')\n",
    "hybi=test_xr.hybi\n",
    "hyai=test_xr.hyai\n",
    "\n",
    "PS = 1e5; P0 = 1e5;\n",
    "P = P0*hyai+PS*hybi; # Total pressure [Pa]\n",
    "dP = P[1:]-P[:-1];\n",
    "\n",
    "\n",
    "# load test data set \n",
    "\n",
    "val_gen_II = DataGenerator(\n",
    "    data_fn = '../SPCESM_data/2015_test_7_consec_days_mem.nc',\n",
    "    input_vars = in_vars,\n",
    "    output_vars = out_vars,\n",
    "    norm_fn = '../SPCESM_data/2013_norm_7_consec_days_mem.nc',\n",
    "    input_transform = ('mean', 'maxrs'),\n",
    "    output_transform = scale_dict_II,\n",
    "    batch_size=int(96*144),\n",
    "    shuffle=True\n",
    ")"
   ]
  },
  {
   "cell_type": "code",
   "execution_count": 12,
   "id": "d3d283da",
   "metadata": {},
   "outputs": [],
   "source": [
    "from cbrain.save_weights import save_norm"
   ]
  },
  {
   "cell_type": "code",
   "execution_count": 22,
   "id": "22752e69",
   "metadata": {},
   "outputs": [],
   "source": []
  },
  {
   "cell_type": "code",
   "execution_count": 13,
   "id": "057e41bb-674e-424f-a145-9f4af719f262",
   "metadata": {},
   "outputs": [
    {
     "name": "stdout",
     "output_type": "stream",
     "text": [
      "432/432 [==============================] - 1s 2ms/step\n"
     ]
    }
   ],
   "source": [
    "# predict with keras and pytorch \n",
    "pred_keras= ANN_7.predict(val_gen_II[300][0])"
   ]
  },
  {
   "cell_type": "code",
   "execution_count": 14,
   "id": "9cbacf68-326f-4719-b0c1-cbfcbfd24918",
   "metadata": {},
   "outputs": [
    {
     "name": "stdout",
     "output_type": "stream",
     "text": [
      "(13824, 112)\n"
     ]
    },
    {
     "data": {
      "text/plain": [
       "array([[ 7.2108985e-13, -3.8530290e-13, -1.2534418e-13, ...,\n",
       "         3.5099038e-01,  1.8521178e+00,  8.8786614e-01],\n",
       "       [ 7.4440454e-13, -3.9779291e-13, -1.2942425e-13, ...,\n",
       "         3.5211015e-01,  1.8518255e+00,  8.8831699e-01],\n",
       "       [ 7.4285023e-13, -3.9740433e-13, -1.2921608e-13, ...,\n",
       "         3.5209033e-01,  1.8518312e+00,  8.8830984e-01],\n",
       "       ...,\n",
       "       [-1.3425150e-11,  7.1748718e-12,  2.3339802e-12, ...,\n",
       "         3.4568124e-03, -4.3600276e-03, -2.2438467e-03],\n",
       "       [-1.3427370e-11,  7.1760375e-12,  2.3343827e-12, ...,\n",
       "         3.4570880e-03, -4.3604523e-03, -2.2405684e-03],\n",
       "       [-1.3348989e-11,  7.1343487e-12,  2.3207408e-12, ...,\n",
       "         3.4189560e-03, -4.3485910e-03, -2.2817850e-03]], dtype=float32)"
      ]
     },
     "execution_count": 14,
     "metadata": {},
     "output_type": "execute_result"
    }
   ],
   "source": [
    "print(pred_keras.shape)\n",
    "pred_keras"
   ]
  },
  {
   "cell_type": "code",
   "execution_count": 15,
   "id": "f915e947-6b24-440a-af10-64becd26ea0d",
   "metadata": {},
   "outputs": [],
   "source": [
    "pred_pytorch=ANN_7_torch(to.from_numpy(val_gen_II[300][0]))"
   ]
  },
  {
   "cell_type": "code",
   "execution_count": 16,
   "id": "71135c82-3fff-4fa0-8925-ca35e39cc077",
   "metadata": {},
   "outputs": [
    {
     "data": {
      "text/plain": [
       "tensor([[ 7.2120e-13, -3.8530e-13, -1.2533e-13,  ...,  3.5099e-01,\n",
       "          1.8521e+00,  8.8787e-01],\n",
       "        [ 7.4418e-13, -3.9779e-13, -1.2942e-13,  ...,  3.5211e-01,\n",
       "          1.8518e+00,  8.8832e-01],\n",
       "        [ 7.4307e-13, -3.9746e-13, -1.2924e-13,  ...,  3.5209e-01,\n",
       "          1.8518e+00,  8.8831e-01],\n",
       "        ...,\n",
       "        [-1.3425e-11,  7.1749e-12,  2.3340e-12,  ...,  3.4567e-03,\n",
       "         -4.3600e-03, -2.2437e-03],\n",
       "        [-1.3427e-11,  7.1759e-12,  2.3344e-12,  ...,  3.4570e-03,\n",
       "         -4.3605e-03, -2.2407e-03],\n",
       "        [-1.3349e-11,  7.1340e-12,  2.3207e-12,  ...,  3.4185e-03,\n",
       "         -4.3486e-03, -2.2820e-03]], grad_fn=<AddmmBackward0>)"
      ]
     },
     "execution_count": 16,
     "metadata": {},
     "output_type": "execute_result"
    }
   ],
   "source": [
    "pred_pytorch"
   ]
  },
  {
   "cell_type": "code",
   "execution_count": 17,
   "id": "b7a7a395",
   "metadata": {},
   "outputs": [],
   "source": [
    "# get weights and biases \n",
    "module = to.jit.trace(ANN_7_torch.forward, to.from_numpy(val_gen_II[300][0]))"
   ]
  },
  {
   "cell_type": "code",
   "execution_count": 18,
   "id": "9032dc19",
   "metadata": {},
   "outputs": [],
   "source": [
    "# get entire network \n",
    "mod = to.jit.trace(ANN_7_torch, to.from_numpy(val_gen_II[300][0]))"
   ]
  },
  {
   "cell_type": "code",
   "execution_count": 19,
   "id": "27cbe965-3bc4-4e05-b16b-bcc5cc18f2cd",
   "metadata": {},
   "outputs": [
    {
     "data": {
      "text/plain": [
       "<matplotlib.legend.Legend at 0x7ffda4521f90>"
      ]
     },
     "execution_count": 19,
     "metadata": {},
     "output_type": "execute_result"
    },
    {
     "data": {
      "image/png": "[encoded data removed]",
      "text/plain": [
       "<Figure size 1152x288 with 1 Axes>"
      ]
     },
     "metadata": {
      "needs_background": "light"
     },
     "output_type": "display_data"
    }
   ],
   "source": [
    "plt.figure(1,(16,4))\n",
    "plt.plot(pred_keras[100:1000,106],label='keras output')\n",
    "plt.plot(pred_pytorch.detach().numpy()[100:1000,106],label='pytorch output')\n",
    "plt.legend(fontsize=15)"
   ]
  },
  {
   "cell_type": "code",
   "execution_count": 20,
   "id": "9a757019-6cc5-4731-9b41-f88dae084a07",
   "metadata": {},
   "outputs": [],
   "source": [
    "a=np.isclose(pred_keras,pred_pytorch.detach().numpy(),atol=2E-6)"
   ]
  },
  {
   "cell_type": "code",
   "execution_count": 21,
   "id": "a09e3848-0102-4dba-b22c-9af8422638d8",
   "metadata": {},
   "outputs": [
    {
     "data": {
      "text/plain": [
       "(13824, 112)"
      ]
     },
     "execution_count": 21,
     "metadata": {},
     "output_type": "execute_result"
    }
   ],
   "source": [
    "a.shape"
   ]
  },
  {
   "cell_type": "code",
   "execution_count": 22,
   "id": "4eac9b76-87a8-4d87-a227-a2705233a119",
   "metadata": {},
   "outputs": [
    {
     "data": {
      "text/plain": [
       "229"
      ]
     },
     "execution_count": 22,
     "metadata": {},
     "output_type": "execute_result"
    }
   ],
   "source": [
    "np.where(a==False)[0].size"
   ]
  },
  {
   "cell_type": "code",
   "execution_count": 23,
   "id": "a79d2294-a7a1-4e09-a9ea-967a31a37e6c",
   "metadata": {},
   "outputs": [
    {
     "data": {
      "text/plain": [
       "1548059"
      ]
     },
     "execution_count": 23,
     "metadata": {},
     "output_type": "execute_result"
    }
   ],
   "source": [
    "np.where(a==True)[0].size"
   ]
  },
  {
   "cell_type": "code",
   "execution_count": 24,
   "id": "52500c65-9ebc-44d9-8f62-00ad47b99134",
   "metadata": {},
   "outputs": [
    {
     "data": {
      "text/plain": [
       "<matplotlib.colorbar.Colorbar at 0x7ffba4304bb0>"
      ]
     },
     "execution_count": 24,
     "metadata": {},
     "output_type": "execute_result"
    },
    {
     "data": {
      "image/png": "[encoded data removed]",
      "text/plain": [
       "<Figure size 1152x288 with 4 Axes>"
      ]
     },
     "metadata": {
      "needs_background": "light"
     },
     "output_type": "display_data"
    }
   ],
   "source": [
    "plt.figure(1,(16,4))\n",
    "plt.subplot(1,2,1)\n",
    "plt.pcolor(pred_keras[0:1000])\n",
    "plt.colorbar()\n",
    "plt.subplot(1,2,2)\n",
    "plt.pcolor(pred_pytorch.detach().numpy()[0:1000])\n",
    "plt.colorbar()"
   ]
  },
  {
   "cell_type": "code",
   "execution_count": 25,
   "id": "86735c1c-c0d9-480a-897b-df222342fbfb",
   "metadata": {},
   "outputs": [
    {
     "data": {
      "text/plain": [
       "[<matplotlib.lines.Line2D at 0x7ffba43e0790>]"
      ]
     },
     "execution_count": 25,
     "metadata": {},
     "output_type": "execute_result"
    },
    {
     "data": {
      "image/png": "[encoded data removed]",
      "text/plain": [
       "<Figure size 432x288 with 1 Axes>"
      ]
     },
     "metadata": {
      "needs_background": "light"
     },
     "output_type": "display_data"
    }
   ],
   "source": [
    "plt.plot(np.where(pred_keras-pred_pytorch.detach().numpy()>=1E-6)[1],'x')#np.max(pred_keras-pred_pytorch.detach().numpy()))"
   ]
  },
  {
   "cell_type": "code",
   "execution_count": 26,
   "id": "5e5571e5-0583-421b-99bf-e36b5170b4da",
   "metadata": {},
   "outputs": [],
   "source": [
    "# save weights and biases \n",
    "to.save(ANN_7_torch,'real_geography/ANNs/ANN_7/ANN_7_CRM_lin.pt')"
   ]
  },
  {
   "cell_type": "code",
   "execution_count": 27,
   "id": "635dbf73",
   "metadata": {},
   "outputs": [],
   "source": [
    "# save entire network \n",
    "to.jit.save(mod,'real_geography/ANNs/ANN_7/ANN_7_CRM_lin_jit.pt')"
   ]
  },
  {
   "cell_type": "code",
   "execution_count": null,
   "id": "1f4a8c9d",
   "metadata": {},
   "outputs": [],
   "source": []
  }
 ],
 "metadata": {
  "kernelspec": {
   "display_name": "lightning_gpu_V_pytorch",
   "language": "python",
   "name": "lightning_gpu_v_pytorch"
  },
  "language_info": {
   "codemirror_mode": {
    "name": "ipython",
    "version": 3
   },
   "file_extension": ".py",
   "mimetype": "text/x-python",
   "name": "python",
   "nbconvert_exporter": "python",
   "pygments_lexer": "ipython3",
   "version": "3.10.4"
  }
 },
 "nbformat": 4,
 "nbformat_minor": 5
}
