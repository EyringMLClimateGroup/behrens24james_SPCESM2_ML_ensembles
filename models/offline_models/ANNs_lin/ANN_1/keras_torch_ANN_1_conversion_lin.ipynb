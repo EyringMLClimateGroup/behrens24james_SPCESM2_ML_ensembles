{
 "cells": [
  {
   "cell_type": "markdown",
   "id": "b4f12574",
   "metadata": {},
   "source": [
    "This notebook shows how we transform ANN 1 from keras into pytorch for the offline evaluation. \n"
   ]
  },
  {
   "cell_type": "code",
   "execution_count": 1,
   "id": "1d9f43a9-194f-4e83-bea3-87b3b8642e43",
   "metadata": {},
   "outputs": [
    {
     "name": "stderr",
     "output_type": "stream",
     "text": [
      "2023-06-29 12:05:06.619163: I tensorflow/core/platform/cpu_feature_guard.cc:193] This TensorFlow binary is optimized with oneAPI Deep Neural Network Library (oneDNN) to use the following CPU instructions in performance-critical operations:  SSE4.1 SSE4.2 AVX AVX2 FMA\n",
      "To enable them in other operations, rebuild TensorFlow with the appropriate compiler flags.\n"
     ]
    }
   ],
   "source": [
    "import tensorflow as tf\n",
    "from cbrain import *\n",
    "import torch as to\n",
    "from tensorflow.keras.layers import Input, Dense, Concatenate, Lambda,Dropout\n",
    "from cbrain.layers import *\n",
    "from tensorflow.keras.models import Model\n",
    "from tensorflow.keras.losses import mse\n",
    "from tensorflow.keras.utils import plot_model\n",
    "from tensorflow.keras import backend as K\n",
    "from tensorflow.keras.callbacks import LearningRateScheduler\n",
    "\n",
    "\n",
    "import numpy as np\n",
    "import matplotlib.pyplot as plt\n",
    "import argparse\n",
    "import os\n",
    "import xarray as xr\n",
    "\n",
    "import tensorflow.keras as ke\n",
    "\n",
    "\n",
    "from cbrain.imports import *\n",
    "\n",
    "from cbrain.utils import *\n",
    "\n",
    "from cbrain.cam_constants import *\n",
    "\n",
    "from cbrain.data_generator import DataGenerator\n",
    "import pandas as ps"
   ]
  },
  {
   "cell_type": "code",
   "execution_count": 2,
   "id": "35682b1a",
   "metadata": {},
   "outputs": [],
   "source": [
    "#define some general hyperparameter\n",
    "\n",
    "\n",
    "original_dim_input=109  # CBRAIN input node size\n",
    "\n",
    "original_dim_output=int(112) # CBRAIN output node size \n",
    "\n",
    "\n",
    "input_shape = (original_dim_input,)\n",
    "out_shape=(original_dim_output,)\n",
    "intermediate_dim = 405\n",
    "\n",
    "batch_size = 3551\n",
    "\n",
    "\n",
    "\n"
   ]
  },
  {
   "cell_type": "code",
   "execution_count": 3,
   "id": "952b7b7b-d4ea-408d-9047-e9567da3729e",
   "metadata": {},
   "outputs": [
    {
     "name": "stdout",
     "output_type": "stream",
     "text": [
      "Model: \"ANN\"\n",
      "_________________________________________________________________\n",
      " Layer (type)                Output Shape              Param #   \n",
      "=================================================================\n",
      " encoder_input (InputLayer)  [(None, 109)]             0         \n",
      "                                                                 \n",
      " dense (Dense)               (None, 405)               44550     \n",
      "                                                                 \n",
      " dense_1 (Dense)             (None, 405)               164430    \n",
      "                                                                 \n",
      " dense_2 (Dense)             (None, 405)               164430    \n",
      "                                                                 \n",
      " dense_3 (Dense)             (None, 405)               164430    \n",
      "                                                                 \n",
      " dense_4 (Dense)             (None, 112)               45472     \n",
      "                                                                 \n",
      " dense_5 (Dense)             (None, 112)               12656     \n",
      "                                                                 \n",
      "=================================================================\n",
      "Total params: 595,968\n",
      "Trainable params: 595,968\n",
      "Non-trainable params: 0\n",
      "_________________________________________________________________\n"
     ]
    },
    {
     "name": "stderr",
     "output_type": "stream",
     "text": [
      "2023-06-29 12:05:36.190027: I tensorflow/core/platform/cpu_feature_guard.cc:193] This TensorFlow binary is optimized with oneAPI Deep Neural Network Library (oneDNN) to use the following CPU instructions in performance-critical operations:  SSE4.1 SSE4.2 AVX AVX2 FMA\n",
      "To enable them in other operations, rebuild TensorFlow with the appropriate compiler flags.\n"
     ]
    }
   ],
   "source": [
    "# load keras model\n",
    "\n",
    "ANN_1=ke.models.load_model('real_geography/ANNs/ANNs_lin/ANN_1/ANN_1_CRM_lin_model.h5')\n",
    "ANN_1.summary()\n",
    "ANN_1_weights=ANN_1.get_weights()\n",
    "\n",
    "batch_size= 3551\n"
   ]
  },
  {
   "cell_type": "code",
   "execution_count": null,
   "id": "db006b86",
   "metadata": {},
   "outputs": [],
   "source": []
  },
  {
   "cell_type": "code",
   "execution_count": 4,
   "id": "27b30840-fc0e-484e-8e92-d81dd3bd950c",
   "metadata": {},
   "outputs": [],
   "source": [
    "# load pytorch\n",
    "import torch.nn as nn\n",
    "import torch.nn.functional as F"
   ]
  },
  {
   "cell_type": "code",
   "execution_count": 5,
   "id": "9e4c82df-f086-48f8-acde-1310c3d14e26",
   "metadata": {},
   "outputs": [],
   "source": [
    "# rebuild the model in pytorch\n",
    "\n",
    "class ANN(nn.Module):\n",
    "    def __init__(self):\n",
    "        super(ANN,self).__init__()\n",
    "        self.X_1=nn.Linear(109,405)\n",
    "        self.X_2=nn.Linear(405,405)\n",
    "        self.X_3=nn.Linear(405,405)\n",
    "        self.X_4=nn.Linear(405,405)\n",
    "        self.X_5=nn.Linear(405,112)\n",
    "        self.X_6=nn.Linear(112,112)\n",
    "\n",
    "    def forward(self,x):\n",
    "        x=F.elu_(self.X_1(x))\n",
    "        x=F.elu_(self.X_2(x))\n",
    "        x=F.elu_(self.X_3(x))\n",
    "        x=F.elu_(self.X_4(x))\n",
    "        x=F.elu_(self.X_5(x))\n",
    "        x=self.X_6(x)\n",
    "\n",
    "        \n",
    "        return x\n",
    "    \n",
    "    \n",
    "        \n",
    "\n",
    "\n",
    "\n",
    "        \n"
   ]
  },
  {
   "cell_type": "code",
   "execution_count": 6,
   "id": "3768c24c-aae4-4a26-9a85-3b05631ab848",
   "metadata": {},
   "outputs": [
    {
     "name": "stdout",
     "output_type": "stream",
     "text": [
      "ANN(\n",
      "  (X_1): Linear(in_features=109, out_features=405, bias=True)\n",
      "  (X_2): Linear(in_features=405, out_features=405, bias=True)\n",
      "  (X_3): Linear(in_features=405, out_features=405, bias=True)\n",
      "  (X_4): Linear(in_features=405, out_features=405, bias=True)\n",
      "  (X_5): Linear(in_features=405, out_features=112, bias=True)\n",
      "  (X_6): Linear(in_features=112, out_features=112, bias=True)\n",
      ")\n"
     ]
    }
   ],
   "source": [
    "# build model\n",
    "ANN_1_torch=ANN()\n",
    "print(ANN_1_torch)"
   ]
  },
  {
   "cell_type": "code",
   "execution_count": null,
   "id": "e97ca58c-f6e4-4ed0-a7a4-3a8819b1a22e",
   "metadata": {},
   "outputs": [],
   "source": [
    "\n",
    "\n",
    "\n"
   ]
  },
  {
   "cell_type": "code",
   "execution_count": null,
   "id": "16a4044a-42b1-42f6-b7f6-183130872921",
   "metadata": {},
   "outputs": [],
   "source": []
  },
  {
   "cell_type": "code",
   "execution_count": null,
   "id": "8d717d2d-cd4c-4b74-a52b-bf81d7cfa15c",
   "metadata": {},
   "outputs": [],
   "source": []
  },
  {
   "cell_type": "markdown",
   "id": "97f9dfe7",
   "metadata": {},
   "source": [
    "the next block loads the keras weights into the pytorch model "
   ]
  },
  {
   "cell_type": "code",
   "execution_count": 7,
   "id": "5e87f0ee-9594-4e58-8572-c0284ebecdc2",
   "metadata": {},
   "outputs": [],
   "source": [
    "ANN_1_torch.X_1.weight.data=to.from_numpy(np.transpose(ANN_1_weights[0]))\n",
    "ANN_1_torch.X_1.bias.data=to.from_numpy(np.transpose(ANN_1_weights[1]))\n",
    "ANN_1_torch.X_2.weight.data=to.from_numpy(np.transpose(ANN_1_weights[2]))\n",
    "ANN_1_torch.X_2.bias.data=to.from_numpy(np.transpose(ANN_1_weights[3]))\n",
    "ANN_1_torch.X_3.weight.data=to.from_numpy(np.transpose(ANN_1_weights[4]))\n",
    "ANN_1_torch.X_3.bias.data=to.from_numpy(np.transpose(ANN_1_weights[5]))\n",
    "ANN_1_torch.X_4.weight.data=to.from_numpy(np.transpose(ANN_1_weights[6]))\n",
    "ANN_1_torch.X_4.bias.data=to.from_numpy(np.transpose(ANN_1_weights[7]))\n",
    "ANN_1_torch.X_5.weight.data=to.from_numpy(np.transpose(ANN_1_weights[8]))\n",
    "ANN_1_torch.X_5.bias.data=to.from_numpy(np.transpose(ANN_1_weights[9]))\n",
    "ANN_1_torch.X_6.weight.data=to.from_numpy(np.transpose(ANN_1_weights[10]))\n",
    "ANN_1_torch.X_6.bias.data=to.from_numpy(np.transpose(ANN_1_weights[11]))\n"
   ]
  },
  {
   "cell_type": "markdown",
   "id": "0bb31f0a",
   "metadata": {},
   "source": [
    "build the output normalization"
   ]
  },
  {
   "cell_type": "code",
   "execution_count": 8,
   "id": "05187a76-d4cd-49b6-bcd0-75aac782120b",
   "metadata": {},
   "outputs": [],
   "source": [
    "in_vars = ['QBP', 'TBP','PS', 'SOLIN', 'SHFLX', 'LHFLX','PRECTt-dt','CLDLIQBP','CLDICEBP']\n",
    "out_vars = ['QBCTEND','TBCTEND','CLDLIQBCTEND','CLDICEBCTEND','PREC_CRM_SNOW','PREC_CRM',\n",
    "            'NN2L_FLWDS','NN2L_DOWN_SW','NN2L_SOLL','NN2L_SOLLD','NN2L_SOLS','NN2L_SOLSD']\n",
    "\n",
    "#loading the output normalization scalars for SP variables ( stds over 2 months of SP simulation)\n",
    "\n",
    "scale_array=ps.read_csv('nn_config/scale_dicts/real_geography_SP_vars_updt.csv')\n",
    "\n",
    "\n",
    "QBC_std_surf=scale_array.QBCTEND_std.values[-1]\n",
    "\n",
    "TBC_std=scale_array.TBCTEND_std.values[-1]\n",
    "CLDLIQBCTEND_std=scale_array.CLDLIQBCTEND_std.values[-1]\n",
    "CLDICEBCTEND_std=scale_array.CLDICEBCTEND_std.values[-1]\n",
    "\n",
    "\n",
    "PRECT_std=scale_array.PRECT_std.values\n",
    "PREC_CRM_SNOW_std=scale_array.PRECT_CRM_SNOW_std.values\n",
    "PREC_CRM_std=scale_array.PRECT_CRM_std.values\n",
    "\n",
    "NN2L_FLWDS_std=scale_array.NN2L_FLWDS_std.values\n",
    "NN2L_DOWN_SW_std=scale_array.NN2L_DOWN_SW_std.values\n",
    "NN2L_SOLL_std=scale_array.NN2L_SOLL_std.values\n",
    "NN2L_SOLLD_std=scale_array.NN2L_SOLLD_std.values\n",
    "NN2L_SOLS_std=scale_array.NN2L_SOLS_mean_std.values\n",
    "NN2L_SOLSD_std=scale_array.NN2L_SOLSD_mean_std.values\n",
    "\n",
    "\n",
    "\n",
    "\n",
    "# defining the scaling dict for the ANN training \n",
    "\n",
    "scale_dict_II = {\n",
    "    'QBCTEND': 1/QBC_std_surf, \n",
    "    'TBCTEND': 1/TBC_std, \n",
    "    'CLDICEBCTEND': 1/CLDICEBCTEND_std, \n",
    "    'CLDLIQBCTEND': 1/CLDLIQBCTEND_std, \n",
    "    'NN2L_FLWDS':1/NN2L_FLWDS_std,\n",
    "    'NN2L_DOWN_SW':1/NN2L_DOWN_SW_std,\n",
    "    'NN2L_SOLL':1/NN2L_SOLL_std,\n",
    "    'NN2L_SOLLD':1/NN2L_SOLLD_std,\n",
    "    'NN2L_SOLS':1/NN2L_SOLS_std,\n",
    "    'NN2L_SOLSD':1/NN2L_SOLSD_std,    \n",
    "    'PRECT': 1/PRECT_std,\n",
    "    'PREC_CRM': 1/PREC_CRM_std,\n",
    "    'PREC_CRM_SNOW': 1/PREC_CRM_SNOW_std   \n",
    "}\n",
    "\n",
    "\n",
    "\n",
    "\n",
    "\n",
    "\n",
    "\n",
    "from cbrain.data_generator import DataGenerator\n",
    "\n",
    "test_xr=xr.open_dataset('/work/bd1179/from_Mistral/bd1179/b381624/CESM2_NN2_pelayout01_ens_07.cam.h1.2013-01-01-00000.nc')\n",
    "hybi=test_xr.hybi\n",
    "hyai=test_xr.hyai\n",
    "\n",
    "PS = 1e5; P0 = 1e5;\n",
    "P = P0*hyai+PS*hybi; # Total pressure [Pa]\n",
    "dP = P[1:]-P[:-1];\n",
    "\n",
    "\n",
    "\n",
    "\n",
    "val_gen_II = DataGenerator(\n",
    "    data_fn = '../SPCESM_data/2015_test_7_consec_days_mem.nc',\n",
    "    input_vars = in_vars,\n",
    "    output_vars = out_vars,\n",
    "    norm_fn = '../SPCESM_data/2013_norm_7_consec_days_mem.nc',\n",
    "    input_transform = ('mean', 'maxrs'),\n",
    "    output_transform = scale_dict_II,\n",
    "    batch_size=int(96*144),\n",
    "    shuffle=True\n",
    ")"
   ]
  },
  {
   "cell_type": "code",
   "execution_count": 2,
   "id": "d3d283da",
   "metadata": {},
   "outputs": [
    {
     "name": "stderr",
     "output_type": "stream",
     "text": [
      "2023-12-01 16:07:40.536678: I tensorflow/core/platform/cpu_feature_guard.cc:193] This TensorFlow binary is optimized with oneAPI Deep Neural Network Library (oneDNN) to use the following CPU instructions in performance-critical operations:  SSE4.1 SSE4.2 AVX AVX2 FMA\n",
      "To enable them in other operations, rebuild TensorFlow with the appropriate compiler flags.\n"
     ]
    }
   ],
   "source": [
    "from cbrain.save_weights import save_norm"
   ]
  },
  {
   "cell_type": "markdown",
   "id": "e5994829",
   "metadata": {},
   "source": [
    "Save the output and input normalization for the online couling "
   ]
  },
  {
   "cell_type": "code",
   "execution_count": 8,
   "id": "22752e69",
   "metadata": {},
   "outputs": [],
   "source": [
    "#save_norm(val_gen_II.input_transform,val_gen_II.output_transform,'real_geography/ANNs/ANNs_lin_t_dt/')"
   ]
  },
  {
   "cell_type": "code",
   "execution_count": 10,
   "id": "057e41bb-674e-424f-a145-9f4af719f262",
   "metadata": {},
   "outputs": [
    {
     "name": "stdout",
     "output_type": "stream",
     "text": [
      "432/432 [==============================] - 1s 968us/step\n"
     ]
    }
   ],
   "source": [
    "#predict one time atep with keras\n",
    "\n",
    "pred_keras= ANN_1.predict(val_gen_II[300][0])"
   ]
  },
  {
   "cell_type": "code",
   "execution_count": 11,
   "id": "9cbacf68-326f-4719-b0c1-cbfcbfd24918",
   "metadata": {},
   "outputs": [
    {
     "name": "stdout",
     "output_type": "stream",
     "text": [
      "(13824, 112)\n"
     ]
    },
    {
     "data": {
      "text/plain": [
       "array([[-5.27734301e-10,  6.50197762e-09,  2.73348633e-09, ...,\n",
       "         4.95974422e-01,  1.83276582e+00,  9.92179275e-01],\n",
       "       [-5.33759703e-10,  6.57473720e-09,  2.76577339e-09, ...,\n",
       "         4.96491402e-01,  1.83230650e+00,  9.92047250e-01],\n",
       "       [-5.33759703e-10,  6.57473720e-09,  2.76440915e-09, ...,\n",
       "         4.96480078e-01,  1.83231580e+00,  9.92050588e-01],\n",
       "       ...,\n",
       "       [-1.13038823e-09,  1.40089469e-08,  5.88670446e-09, ...,\n",
       "         2.57734209e-02, -1.03362724e-02,  7.96433538e-03],\n",
       "       [-1.12936505e-09,  1.39998519e-08,  5.88306648e-09, ...,\n",
       "         2.57738307e-02, -1.03358105e-02,  7.96517730e-03],\n",
       "       [-1.14130216e-09,  1.41490091e-08,  5.94627636e-09, ...,\n",
       "         2.57560238e-02, -1.03407949e-02,  7.94787705e-03]], dtype=float32)"
      ]
     },
     "execution_count": 11,
     "metadata": {},
     "output_type": "execute_result"
    }
   ],
   "source": [
    "print(pred_keras.shape)\n",
    "pred_keras"
   ]
  },
  {
   "cell_type": "code",
   "execution_count": 12,
   "id": "f915e947-6b24-440a-af10-64becd26ea0d",
   "metadata": {},
   "outputs": [],
   "source": [
    "#predict one time step with pytorch\n",
    "pred_pytorch=ANN_1_torch(to.from_numpy(val_gen_II[300][0]))"
   ]
  },
  {
   "cell_type": "code",
   "execution_count": 13,
   "id": "71135c82-3fff-4fa0-8925-ca35e39cc077",
   "metadata": {},
   "outputs": [
    {
     "data": {
      "text/plain": [
       "tensor([-5.2773e-10,  6.5020e-09,  2.7335e-09, -1.7458e-09, -1.2718e-06,\n",
       "        -9.2373e-07, -8.6501e-07, -2.5504e-07, -1.1142e-06,  8.1063e-06,\n",
       "         2.2276e-05,  2.8837e-05,  3.0206e-05, -1.5208e-05, -6.7761e-05,\n",
       "         1.5783e-04,  7.2139e-04,  7.4831e-04, -4.6379e-04, -2.0196e-03,\n",
       "         2.7472e-03,  1.1260e-02, -2.8386e-03, -7.3985e-03, -7.1659e-03,\n",
       "        -5.9188e-03,  4.4596e-02,  2.3259e-03, -3.8050e-03,  4.2549e-03,\n",
       "         8.1349e-03,  8.2600e-03,  8.1587e-03,  3.1778e-03,  7.4579e-03,\n",
       "         5.0174e-03,  3.8149e-03,  1.1864e-03, -2.4277e-04, -9.7223e-04,\n",
       "        -3.6512e-03, -6.2631e-03, -9.9795e-03, -1.6903e-02, -1.9619e-02,\n",
       "        -1.7854e-02, -2.3263e-02, -2.3722e-02, -2.1735e-02, -2.1371e-02,\n",
       "        -3.8084e-02,  2.8546e-02,  1.9934e-09, -2.5616e-09, -3.0095e-09,\n",
       "        -5.9663e-09,  1.5034e-09,  2.4470e-09, -2.8494e-09,  3.3078e-09,\n",
       "         1.3081e-09, -2.5980e-09, -1.1426e-09,  6.0363e-09,  2.6371e-09,\n",
       "         6.5993e-09,  1.0780e-06,  9.0860e-06,  9.4236e-04, -1.4776e-04,\n",
       "        -1.7057e-03, -3.0552e-03, -5.0743e-03,  1.7756e-03,  9.3380e-04,\n",
       "         4.6908e-04, -4.3332e-03, -2.5327e-03,  6.3310e-09,  3.8740e-09,\n",
       "        -1.8576e-09,  5.2762e-10, -4.2107e-06,  2.3460e-05,  2.5199e-04,\n",
       "        -6.4760e-05, -1.8772e-04, -7.1207e-04, -1.3028e-03, -1.4240e-03,\n",
       "         2.4854e-04, -1.7116e-03, -1.1338e-03, -1.2399e-03, -3.1687e-03,\n",
       "        -2.5105e-03, -9.7621e-03, -3.5325e-02, -1.5321e-02,  7.6737e-03,\n",
       "        -8.3676e-03, -1.0957e-02, -5.8205e-03, -4.3634e-03,  2.4638e-03,\n",
       "         2.5621e-03,  1.0994e+00,  3.8068e-01,  2.4250e+00,  4.9598e-01,\n",
       "         1.8328e+00,  9.9218e-01], grad_fn=<SelectBackward0>)"
      ]
     },
     "execution_count": 13,
     "metadata": {},
     "output_type": "execute_result"
    }
   ],
   "source": [
    "pred_pytorch[0]"
   ]
  },
  {
   "cell_type": "code",
   "execution_count": 14,
   "id": "b7a7a395",
   "metadata": {},
   "outputs": [],
   "source": [
    "# repeat the forward pass (prediction) and save the weights and biases \n",
    "module = to.jit.trace(ANN_1_torch.forward, to.from_numpy(val_gen_II[300][0]))"
   ]
  },
  {
   "cell_type": "code",
   "execution_count": 15,
   "id": "9032dc19",
   "metadata": {},
   "outputs": [],
   "source": [
    "# the same but here the entire model structure is saved \n",
    "mod = to.jit.trace(ANN_1_torch, to.from_numpy(val_gen_II[300][0]))"
   ]
  },
  {
   "cell_type": "code",
   "execution_count": 16,
   "id": "27cbe965-3bc4-4e05-b16b-bcc5cc18f2cd",
   "metadata": {},
   "outputs": [
    {
     "data": {
      "text/plain": [
       "<matplotlib.legend.Legend at 0x7ffd9c1378e0>"
      ]
     },
     "execution_count": 16,
     "metadata": {},
     "output_type": "execute_result"
    },
    {
     "data": {
      "image/png": "[encoded data removed]",
      "text/plain": [
       "<Figure size 1152x288 with 1 Axes>"
      ]
     },
     "metadata": {
      "needs_background": "light"
     },
     "output_type": "display_data"
    }
   ],
   "source": [
    "#compare the different predictions with each other \n",
    "plt.figure(1,(16,4))\n",
    "plt.plot(pred_keras[100:1000,106],label='keras output')\n",
    "plt.plot(pred_pytorch.detach().numpy()[100:1000,106],label='pytorch output')\n",
    "plt.legend(fontsize=15)"
   ]
  },
  {
   "cell_type": "code",
   "execution_count": 17,
   "id": "9a757019-6cc5-4731-9b41-f88dae084a07",
   "metadata": {},
   "outputs": [],
   "source": [
    "a=np.isclose(pred_keras,pred_pytorch.detach().numpy(),atol=2E-6)"
   ]
  },
  {
   "cell_type": "code",
   "execution_count": 18,
   "id": "a09e3848-0102-4dba-b22c-9af8422638d8",
   "metadata": {},
   "outputs": [
    {
     "data": {
      "text/plain": [
       "(13824, 112)"
      ]
     },
     "execution_count": 18,
     "metadata": {},
     "output_type": "execute_result"
    }
   ],
   "source": [
    "a.shape"
   ]
  },
  {
   "cell_type": "code",
   "execution_count": 19,
   "id": "4eac9b76-87a8-4d87-a227-a2705233a119",
   "metadata": {},
   "outputs": [
    {
     "data": {
      "text/plain": [
       "54"
      ]
     },
     "execution_count": 19,
     "metadata": {},
     "output_type": "execute_result"
    }
   ],
   "source": [
    "np.where(a==False)[0].size"
   ]
  },
  {
   "cell_type": "code",
   "execution_count": 20,
   "id": "a79d2294-a7a1-4e09-a9ea-967a31a37e6c",
   "metadata": {},
   "outputs": [
    {
     "data": {
      "text/plain": [
       "1548234"
      ]
     },
     "execution_count": 20,
     "metadata": {},
     "output_type": "execute_result"
    }
   ],
   "source": [
    "np.where(a==True)[0].size"
   ]
  },
  {
   "cell_type": "code",
   "execution_count": 21,
   "id": "52500c65-9ebc-44d9-8f62-00ad47b99134",
   "metadata": {},
   "outputs": [
    {
     "data": {
      "text/plain": [
       "<matplotlib.colorbar.Colorbar at 0x7ffb7c629150>"
      ]
     },
     "execution_count": 21,
     "metadata": {},
     "output_type": "execute_result"
    },
    {
     "data": {
      "image/png": "[encoded data removed]",
      "text/plain": [
       "<Figure size 1152x288 with 4 Axes>"
      ]
     },
     "metadata": {
      "needs_background": "light"
     },
     "output_type": "display_data"
    }
   ],
   "source": [
    "plt.figure(1,(16,4))\n",
    "plt.subplot(1,2,1)\n",
    "plt.pcolor(pred_keras[0:1000])\n",
    "plt.colorbar()\n",
    "plt.subplot(1,2,2)\n",
    "plt.pcolor(pred_pytorch.detach().numpy()[0:1000])\n",
    "plt.colorbar()"
   ]
  },
  {
   "cell_type": "code",
   "execution_count": 22,
   "id": "86735c1c-c0d9-480a-897b-df222342fbfb",
   "metadata": {},
   "outputs": [
    {
     "data": {
      "text/plain": [
       "[<matplotlib.lines.Line2D at 0x7ffb7c524e80>]"
      ]
     },
     "execution_count": 22,
     "metadata": {},
     "output_type": "execute_result"
    },
    {
     "data": {
      "image/png": "[encoded data removed]",
      "text/plain": [
       "<Figure size 432x288 with 1 Axes>"
      ]
     },
     "metadata": {
      "needs_background": "light"
     },
     "output_type": "display_data"
    }
   ],
   "source": [
    "plt.plot(np.where(pred_keras-pred_pytorch.detach().numpy()>=1E-6)[1],'x')#np.max(pred_keras-pred_pytorch.detach().numpy()))"
   ]
  },
  {
   "cell_type": "code",
   "execution_count": 23,
   "id": "5e5571e5-0583-421b-99bf-e36b5170b4da",
   "metadata": {},
   "outputs": [],
   "source": [
    "#save the weights and biases of pytorch ANN1 \n",
    "to.save(ANN_1_torch,'real_geography/ANNs/ANN_1/ANN_1_CRM_lin.pt')"
   ]
  },
  {
   "cell_type": "code",
   "execution_count": 24,
   "id": "635dbf73",
   "metadata": {},
   "outputs": [],
   "source": [
    "#save the entire ANN 1 in pytorch \n",
    "to.jit.save(mod,'real_geography/ANNs/ANN_1/ANN_1_CRM_lin_jit.pt')"
   ]
  },
  {
   "cell_type": "code",
   "execution_count": null,
   "id": "1f4a8c9d",
   "metadata": {},
   "outputs": [],
   "source": []
  }
 ],
 "metadata": {
  "kernelspec": {
   "display_name": "lightning_gpu_V_pytorch",
   "language": "python",
   "name": "lightning_gpu_v_pytorch"
  },
  "language_info": {
   "codemirror_mode": {
    "name": "ipython",
    "version": 3
   },
   "file_extension": ".py",
   "mimetype": "text/x-python",
   "name": "python",
   "nbconvert_exporter": "python",
   "pygments_lexer": "ipython3",
   "version": "3.10.4"
  }
 },
 "nbformat": 4,
 "nbformat_minor": 5
}
