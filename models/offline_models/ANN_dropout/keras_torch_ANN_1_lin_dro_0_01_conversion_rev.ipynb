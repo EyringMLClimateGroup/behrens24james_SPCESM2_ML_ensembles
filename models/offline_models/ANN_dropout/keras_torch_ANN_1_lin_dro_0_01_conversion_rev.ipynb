{
 "cells": [
  {
   "cell_type": "markdown",
   "id": "9cdbd0a8-b8d2-4b91-ac61-86460e216a55",
   "metadata": {},
   "source": [
    "This notebook how we transform the keras version of ANN-dropout into a pytorch version for the offline evaluation"
   ]
  },
  {
   "cell_type": "code",
   "execution_count": 2,
   "id": "1d9f43a9-194f-4e83-bea3-87b3b8642e43",
   "metadata": {},
   "outputs": [],
   "source": [
    "\n",
    "import tensorflow as tf\n",
    "from cbrain import *\n",
    "import torch as to\n",
    "from tensorflow.keras.layers import Input, Dense, Concatenate, Lambda, Dropout\n",
    "from cbrain.layers import *\n",
    "from tensorflow.keras.models import Model\n",
    "from tensorflow.keras.losses import mse\n",
    "from tensorflow.keras.utils import plot_model\n",
    "from tensorflow.keras import backend as K\n",
    "from tensorflow.keras.callbacks import LearningRateScheduler\n",
    "\n",
    "\n",
    "import numpy as np\n",
    "import matplotlib.pyplot as plt\n",
    "import argparse\n",
    "import os\n",
    "import xarray as xr\n",
    "\n",
    "import tensorflow.keras as ke\n",
    "\n",
    "\n",
    "from cbrain.imports import *\n",
    "\n",
    "from cbrain.utils import *\n",
    "\n",
    "from cbrain.cam_constants import *\n",
    "\n",
    "from cbrain.data_generator import DataGenerator\n",
    "import pandas as ps"
   ]
  },
  {
   "cell_type": "code",
   "execution_count": 3,
   "id": "35682b1a",
   "metadata": {},
   "outputs": [
    {
     "name": "stdout",
     "output_type": "stream",
     "text": [
      "Model: \"ANN\"\n",
      "_________________________________________________________________\n",
      " Layer (type)                Output Shape              Param #   \n",
      "=================================================================\n",
      " encoder_input (InputLayer)  [(None, 109)]             0         \n",
      "                                                                 \n",
      " dense (Dense)               (None, 405)               44550     \n",
      "                                                                 \n",
      " dense_1 (Dense)             (None, 405)               164430    \n",
      "                                                                 \n",
      " dense_2 (Dense)             (None, 405)               164430    \n",
      "                                                                 \n",
      " dense_3 (Dense)             (None, 405)               164430    \n",
      "                                                                 \n",
      " dropout (Dropout)           (None, 405)               0         \n",
      "                                                                 \n",
      " dense_4 (Dense)             (None, 112)               45472     \n",
      "                                                                 \n",
      " dense_5 (Dense)             (None, 112)               12656     \n",
      "                                                                 \n",
      "=================================================================\n",
      "Total params: 595,968\n",
      "Trainable params: 595,968\n",
      "Non-trainable params: 0\n",
      "_________________________________________________________________\n"
     ]
    },
    {
     "name": "stderr",
     "output_type": "stream",
     "text": [
      "2023-07-04 08:44:00.262051: I tensorflow/core/platform/cpu_feature_guard.cc:193] This TensorFlow binary is optimized with oneAPI Deep Neural Network Library (oneDNN) to use the following CPU instructions in performance-critical operations:  SSE4.1 SSE4.2 AVX AVX2 FMA\n",
      "To enable them in other operations, rebuild TensorFlow with the appropriate compiler flags.\n"
     ]
    }
   ],
   "source": [
    "# define some hyperparameter of ANN_dropout based on ANN_1 with dropout layer in keras \n",
    "original_dim_input=109  # CBRAIN input node size\n",
    "\n",
    "original_dim_output=int(112) # CBRAIN output node size \n",
    "\n",
    "\n",
    "input_shape = (original_dim_input,)\n",
    "out_shape=(original_dim_output,)\n",
    "intermediate_dim = 405\n",
    "\n",
    "batch_size = 3551\n",
    "\n",
    "\n",
    "\n",
    "input_lay=Input(shape=input_shape, name='encoder_input')\n",
    "x_0 =Dense(intermediate_dim, activation='elu')(input_lay)\n",
    "x_1 =Dense(intermediate_dim, activation='elu')(x_0)\n",
    "x_2 =Dense(intermediate_dim, activation='elu')(x_1)\n",
    "x_3 =Dense(intermediate_dim, activation='elu')(x_2)\n",
    "dr_out=Dropout(0.01,input_shape=(intermediate_dim,))(x_3) #dropout layer with dropout 0.01\n",
    "outputs_1= Dense(original_dim_output,activation='elu')(dr_out)\n",
    "outputs_A = Dense(original_dim_output,activation='linear')(outputs_1)\n",
    "    \n",
    "    # instantiate encoder model\n",
    "ANN_1= Model(input_lay, outputs_A, name='ANN')\n",
    "ANN_1.summary()"
   ]
  },
  {
   "cell_type": "code",
   "execution_count": 4,
   "id": "952b7b7b-d4ea-408d-9047-e9567da3729e",
   "metadata": {},
   "outputs": [
    {
     "name": "stdout",
     "output_type": "stream",
     "text": [
      "Model: \"ANN\"\n",
      "_________________________________________________________________\n",
      " Layer (type)                Output Shape              Param #   \n",
      "=================================================================\n",
      " encoder_input (InputLayer)  [(None, 109)]             0         \n",
      "                                                                 \n",
      " dense (Dense)               (None, 405)               44550     \n",
      "                                                                 \n",
      " dense_1 (Dense)             (None, 405)               164430    \n",
      "                                                                 \n",
      " dense_2 (Dense)             (None, 405)               164430    \n",
      "                                                                 \n",
      " dense_3 (Dense)             (None, 405)               164430    \n",
      "                                                                 \n",
      " dropout (Dropout)           (None, 405)               0         \n",
      "                                                                 \n",
      " dense_4 (Dense)             (None, 112)               45472     \n",
      "                                                                 \n",
      " dense_5 (Dense)             (None, 112)               12656     \n",
      "                                                                 \n",
      "=================================================================\n",
      "Total params: 595,968\n",
      "Trainable params: 595,968\n",
      "Non-trainable params: 0\n",
      "_________________________________________________________________\n"
     ]
    }
   ],
   "source": [
    "#load keras model weights and biases \n",
    "ANN_1.load_weights('real_geography/ANNs/ANNs_lin/ANN_1/ANN_1_CRM_lin_dro_0_01_model.h5')\n",
    "ANN_1.summary()\n",
    "ANN_1_weights=ANN_1.get_weights()\n",
    "\n",
    "batch_size= 3551\n"
   ]
  },
  {
   "cell_type": "code",
   "execution_count": null,
   "id": "db006b86",
   "metadata": {},
   "outputs": [],
   "source": [
    "# import pytorch"
   ]
  },
  {
   "cell_type": "code",
   "execution_count": 5,
   "id": "27b30840-fc0e-484e-8e92-d81dd3bd950c",
   "metadata": {},
   "outputs": [],
   "source": [
    "import torch.nn as nn\n",
    "import torch.nn.functional as F"
   ]
  },
  {
   "cell_type": "code",
   "execution_count": 6,
   "id": "9e4c82df-f086-48f8-acde-1310c3d14e26",
   "metadata": {},
   "outputs": [],
   "source": [
    "# construct ANN-dropout in pytorch\n",
    "class ANN(nn.Module):\n",
    "    def __init__(self):\n",
    "        super(ANN,self).__init__()\n",
    "        self.X_1=nn.Linear(109,405)\n",
    "        self.X_2=nn.Linear(405,405)\n",
    "        self.X_3=nn.Linear(405,405)\n",
    "        self.X_4=nn.Linear(405,405)\n",
    "        self.X_5=nn.Dropout(p=0.01) #dropout layer with dr = 0.01\n",
    "        self.X_6=nn.Linear(405,112)\n",
    "        self.X_7=nn.Linear(112,112)\n",
    "    def forward(self,x):\n",
    "        x=F.elu_(self.X_1(x))\n",
    "        x=F.elu_(self.X_2(x))\n",
    "        x=F.elu_(self.X_3(x))\n",
    "        x=F.elu_(self.X_4(x))\n",
    "        x=self.X_5(x)\n",
    "        x=F.elu_(self.X_6(x))\n",
    "        x=self.X_7(x)\n",
    "       \n",
    "        \n",
    "        return x\n",
    "    \n",
    "    \n",
    "        \n",
    "\n",
    "\n",
    "\n",
    "        \n"
   ]
  },
  {
   "cell_type": "code",
   "execution_count": 7,
   "id": "3768c24c-aae4-4a26-9a85-3b05631ab848",
   "metadata": {},
   "outputs": [
    {
     "name": "stdout",
     "output_type": "stream",
     "text": [
      "ANN(\n",
      "  (X_1): Linear(in_features=109, out_features=405, bias=True)\n",
      "  (X_2): Linear(in_features=405, out_features=405, bias=True)\n",
      "  (X_3): Linear(in_features=405, out_features=405, bias=True)\n",
      "  (X_4): Linear(in_features=405, out_features=405, bias=True)\n",
      "  (X_5): Dropout(p=0.01, inplace=False)\n",
      "  (X_6): Linear(in_features=405, out_features=112, bias=True)\n",
      "  (X_7): Linear(in_features=112, out_features=112, bias=True)\n",
      ")\n"
     ]
    }
   ],
   "source": [
    "# build ANN_dropout\n",
    "ANN_1_torch=ANN()\n",
    "print(ANN_1_torch)"
   ]
  },
  {
   "cell_type": "code",
   "execution_count": 8,
   "id": "e97ca58c-f6e4-4ed0-a7a4-3a8819b1a22e",
   "metadata": {},
   "outputs": [
    {
     "name": "stdout",
     "output_type": "stream",
     "text": [
      "torch.Size([112, 405])\n"
     ]
    }
   ],
   "source": [
    "\n",
    "\n",
    "\n",
    "print(ANN_1_torch.X_6.weight.shape)\n",
    "#print(ANN_1_torch.X_8.bias.shape)\n"
   ]
  },
  {
   "cell_type": "code",
   "execution_count": null,
   "id": "16a4044a-42b1-42f6-b7f6-183130872921",
   "metadata": {},
   "outputs": [],
   "source": []
  },
  {
   "cell_type": "code",
   "execution_count": 9,
   "id": "8d717d2d-cd4c-4b74-a52b-bf81d7cfa15c",
   "metadata": {},
   "outputs": [
    {
     "data": {
      "text/plain": [
       "(112, 112)"
      ]
     },
     "execution_count": 9,
     "metadata": {},
     "output_type": "execute_result"
    }
   ],
   "source": [
    "ANN_1_weights[10].shape\n"
   ]
  },
  {
   "cell_type": "code",
   "execution_count": 10,
   "id": "37f73910-a034-43d3-b4b3-5624cd5deed9",
   "metadata": {},
   "outputs": [
    {
     "data": {
      "text/plain": [
       "(112,)"
      ]
     },
     "execution_count": 10,
     "metadata": {},
     "output_type": "execute_result"
    }
   ],
   "source": [
    "ANN_1_weights[11].shape\n"
   ]
  },
  {
   "cell_type": "code",
   "execution_count": 11,
   "id": "5e87f0ee-9594-4e58-8572-c0284ebecdc2",
   "metadata": {},
   "outputs": [],
   "source": [
    "# load ANN_dropout keras weights and biases into pytorch model\n",
    "ANN_1_torch.X_1.weight.data=to.from_numpy(np.transpose(ANN_1_weights[0]))\n",
    "ANN_1_torch.X_1.bias.data=to.from_numpy(np.transpose(ANN_1_weights[1]))\n",
    "ANN_1_torch.X_2.weight.data=to.from_numpy(np.transpose(ANN_1_weights[2]))\n",
    "ANN_1_torch.X_2.bias.data=to.from_numpy(np.transpose(ANN_1_weights[3]))\n",
    "ANN_1_torch.X_3.weight.data=to.from_numpy(np.transpose(ANN_1_weights[4]))\n",
    "ANN_1_torch.X_3.bias.data=to.from_numpy(np.transpose(ANN_1_weights[5]))\n",
    "ANN_1_torch.X_4.weight.data=to.from_numpy(np.transpose(ANN_1_weights[6]))\n",
    "ANN_1_torch.X_4.bias.data=to.from_numpy(np.transpose(ANN_1_weights[7]))\n",
    "\n",
    "ANN_1_torch.X_6.weight.data=to.from_numpy(np.transpose(ANN_1_weights[8]))\n",
    "ANN_1_torch.X_6.bias.data=to.from_numpy(np.transpose(ANN_1_weights[9]))\n",
    "ANN_1_torch.X_7.weight.data=to.from_numpy(np.transpose(ANN_1_weights[10]))\n",
    "ANN_1_torch.X_7.bias.data=to.from_numpy(np.transpose(ANN_1_weights[11]))\n"
   ]
  },
  {
   "cell_type": "code",
   "execution_count": 12,
   "id": "05187a76-d4cd-49b6-bcd0-75aac782120b",
   "metadata": {},
   "outputs": [],
   "source": [
    "# define input and output variables\n",
    "in_vars = ['QBP', 'TBP','PS', 'SOLIN', 'SHFLX', 'LHFLX','PRECTt-dt','CLDLIQBP','CLDICEBP']\n",
    "out_vars = ['QBCTEND','TBCTEND','CLDLIQBCTEND','CLDICEBCTEND','PREC_CRM_SNOW','PREC_CRM',\n",
    "            'NN2L_FLWDS','NN2L_DOWN_SW','NN2L_SOLL','NN2L_SOLLD','NN2L_SOLS','NN2L_SOLSD']\n",
    "\n",
    "#loading the output normalization scalars for SP variables ( stds over 3 months of SP simulation)\n",
    "\n",
    "scale_array=ps.read_csv('nn_config/scale_dicts/real_geography_SP_vars_updt.csv')\n",
    "\n",
    "\n",
    "QBC_std_surf=scale_array.QBCTEND_std.values[-1]\n",
    "\n",
    "TBC_std=scale_array.TBCTEND_std.values[-1]\n",
    "CLDLIQBCTEND_std=scale_array.CLDLIQBCTEND_std.values[-1]\n",
    "CLDICEBCTEND_std=scale_array.CLDICEBCTEND_std.values[-1]\n",
    "\n",
    "\n",
    "PRECT_std=scale_array.PRECT_std.values\n",
    "PREC_CRM_SNOW_std=scale_array.PRECT_CRM_SNOW_std.values\n",
    "PREC_CRM_std=scale_array.PRECT_CRM_std.values\n",
    "FSNS_std=scale_array.FSNS_std.values\n",
    "FSNT_std=scale_array.FSNT_std.values\n",
    "FLNS_std=scale_array.FLNS_std.values\n",
    "FLNT_std=scale_array.FLNT_std.values\n",
    "NN2L_FLWDS_std=scale_array.NN2L_FLWDS_std.values\n",
    "NN2L_DOWN_SW_std=scale_array.NN2L_DOWN_SW_std.values\n",
    "NN2L_SOLL_std=scale_array.NN2L_SOLL_std.values\n",
    "NN2L_SOLLD_std=scale_array.NN2L_SOLLD_std.values\n",
    "NN2L_SOLS_std=scale_array.NN2L_SOLS_mean_std.values\n",
    "NN2L_SOLSD_std=scale_array.NN2L_SOLSD_mean_std.values\n",
    "\n",
    "\n",
    "\n",
    "\n",
    "\n",
    "# defining the scaling dict for the ANN dropout training \n",
    "\n",
    "scale_dict_II = {\n",
    "    'QBCTEND': 1/QBC_std_surf, \n",
    "    'TBCTEND': 1/TBC_std, \n",
    "    'CLDICEBCTEND': 1/CLDICEBCTEND_std, \n",
    "    'CLDLIQBCTEND': 1/CLDLIQBCTEND_std, \n",
    "    'NN2L_FLWDS':1/NN2L_FLWDS_std,\n",
    "    'NN2L_DOWN_SW':1/NN2L_DOWN_SW_std,\n",
    "    'NN2L_SOLL':1/NN2L_SOLL_std,\n",
    "    'NN2L_SOLLD':1/NN2L_SOLLD_std,\n",
    "    'NN2L_SOLS':1/NN2L_SOLS_std,\n",
    "    'NN2L_SOLSD':1/NN2L_SOLSD_std,    \n",
    "    'PREC_CRM': 1/PREC_CRM_std,\n",
    "    'PREC_CRM_SNOW': 1/PREC_CRM_SNOW_std\n",
    "}\n",
    "\n",
    "\n",
    "\n",
    "\n",
    "# construct vertical axis in pressure coords \n",
    "\n",
    "\n",
    "from cbrain.data_generator import DataGenerator\n",
    "\n",
    "test_xr=xr.open_dataset('/work/bd1179/from_Mistral/bd1179/b381624/CESM2_NN2_pelayout01_ens_07.cam.h1.2013-01-01-00000.nc')\n",
    "hybi=test_xr.hybi\n",
    "hyai=test_xr.hyai\n",
    "\n",
    "PS = 1e5; P0 = 1e5;\n",
    "P = P0*hyai+PS*hybi; # Total pressure [Pa]\n",
    "dP = P[1:]-P[:-1];\n",
    "\n",
    "\n",
    "# load test data set\n",
    "\n",
    "val_gen_II = DataGenerator(\n",
    "    data_fn = '../SPCESM_data/2015_test_7_consec_days_mem.nc',\n",
    "    input_vars = in_vars,\n",
    "    output_vars = out_vars,\n",
    "    norm_fn = '../SPCESM_data/2013_norm_7_consec_days_mem.nc',\n",
    "    input_transform = ('mean', 'maxrs'),\n",
    "    output_transform = scale_dict_II,\n",
    "    batch_size=int(96*144),\n",
    "    shuffle=True\n",
    ")"
   ]
  },
  {
   "cell_type": "code",
   "execution_count": 13,
   "id": "d3d283da",
   "metadata": {},
   "outputs": [],
   "source": [
    "# to save input and output normalization files\n",
    "from cbrain.save_weights import save_norm"
   ]
  },
  {
   "cell_type": "code",
   "execution_count": 6,
   "id": "22752e69",
   "metadata": {},
   "outputs": [],
   "source": [
    "#save_norm(val_gen_II.input_transform,val_gen_II.output_transform,'real_geography/norm_files/')"
   ]
  },
  {
   "cell_type": "code",
   "execution_count": 14,
   "id": "057e41bb-674e-424f-a145-9f4af719f262",
   "metadata": {},
   "outputs": [
    {
     "name": "stdout",
     "output_type": "stream",
     "text": [
      "432/432 [==============================] - 1s 921us/step\n"
     ]
    }
   ],
   "source": [
    "#predict with keras\n",
    "pred_keras= ANN_1.predict(val_gen_II[300][0])"
   ]
  },
  {
   "cell_type": "code",
   "execution_count": 15,
   "id": "9cbacf68-326f-4719-b0c1-cbfcbfd24918",
   "metadata": {},
   "outputs": [
    {
     "name": "stdout",
     "output_type": "stream",
     "text": [
      "(13824, 112)\n"
     ]
    },
    {
     "data": {
      "text/plain": [
       "array([[-4.9127266e-08,  8.5681677e-08, -4.3539330e-08, ...,\n",
       "         5.9516144e-01,  1.7891512e+00,  9.9677432e-01],\n",
       "       [-4.9592927e-08,  8.6612999e-08, -4.4237822e-08, ...,\n",
       "         5.9531760e-01,  1.7890072e+00,  9.9664330e-01],\n",
       "       [-4.9592927e-08,  8.6612999e-08, -4.4237822e-08, ...,\n",
       "         5.9531152e-01,  1.7890118e+00,  9.9664545e-01],\n",
       "       ...,\n",
       "       [ 1.8626451e-09, -4.6566129e-09,  1.3969839e-09, ...,\n",
       "         1.2931049e-02, -6.9833510e-03, -2.9324293e-03],\n",
       "       [ 2.0954758e-09, -4.1909516e-09,  2.7939677e-09, ...,\n",
       "         1.2932405e-02, -6.9829561e-03, -2.9315352e-03],\n",
       "       [ 1.3969839e-09, -3.2596290e-09,  2.3283064e-09, ...,\n",
       "         1.2908161e-02, -6.9837607e-03, -2.9588342e-03]], dtype=float32)"
      ]
     },
     "execution_count": 15,
     "metadata": {},
     "output_type": "execute_result"
    }
   ],
   "source": [
    "print(pred_keras.shape)\n",
    "pred_keras"
   ]
  },
  {
   "cell_type": "code",
   "execution_count": 16,
   "id": "f915e947-6b24-440a-af10-64becd26ea0d",
   "metadata": {},
   "outputs": [],
   "source": [
    "#predict with torch\n",
    "pred_pytorch=ANN_1_torch(to.from_numpy(val_gen_II[300][0]))"
   ]
  },
  {
   "cell_type": "code",
   "execution_count": 17,
   "id": "71135c82-3fff-4fa0-8925-ca35e39cc077",
   "metadata": {},
   "outputs": [
    {
     "data": {
      "text/plain": [
       "tensor([-3.3760e-08,  5.8208e-08, -2.9337e-08, -2.9569e-08, -1.6042e-07,\n",
       "        -6.5786e-07, -1.1912e-06, -7.0408e-07, -5.3633e-06, -5.9081e-06,\n",
       "        -2.0424e-05, -1.0033e-04, -2.3650e-04, -2.6893e-04, -2.8685e-07,\n",
       "         6.1848e-04,  9.5426e-04,  2.4145e-04, -5.0977e-04, -1.1819e-03,\n",
       "        -3.9539e-03, -1.7471e-03, -4.1103e-04, -7.6414e-04,  2.4297e-03,\n",
       "        -5.3775e-04,  2.3149e-02, -1.2133e-02, -1.4006e-02, -4.9969e-03,\n",
       "         8.3404e-04,  3.0274e-03,  4.2354e-03,  6.3531e-04,  4.9473e-03,\n",
       "         2.5599e-03,  6.9456e-04, -1.9264e-03, -3.7705e-03, -3.6345e-03,\n",
       "        -7.2529e-03, -1.1852e-02, -1.6644e-02, -2.1587e-02, -2.2744e-02,\n",
       "        -1.9639e-02, -1.3081e-02, -1.6591e-02, -3.0997e-02, -2.7875e-02,\n",
       "        -3.6572e-02, -3.3309e-03, -1.5018e-08, -9.1270e-08, -1.2107e-08,\n",
       "        -5.9139e-08, -1.3970e-08, -5.2387e-10,  1.3097e-08, -6.7987e-08,\n",
       "        -4.7265e-08,  6.2864e-08, -3.2131e-08, -2.2119e-08,  3.1287e-09,\n",
       "        -1.5600e-08, -1.7091e-06, -4.3695e-04,  3.8202e-04, -1.9063e-03,\n",
       "        -2.2007e-03, -6.7331e-04, -1.3064e-03,  8.8249e-04, -7.1257e-03,\n",
       "         4.0898e-03,  1.4031e-03, -3.1645e-03,  1.2340e-08,  2.1420e-08,\n",
       "        -4.7497e-08, -2.2585e-08, -6.6748e-06, -5.7241e-05, -2.4304e-05,\n",
       "        -1.8428e-04, -3.0771e-04,  5.7998e-04,  1.2398e-05, -3.3122e-03,\n",
       "        -4.2809e-03,  1.6106e-03,  2.8381e-03, -1.9553e-04, -1.8183e-03,\n",
       "        -2.0455e-03, -3.3511e-03, -3.8124e-03, -5.3876e-03, -2.0825e-02,\n",
       "        -3.4278e-02, -1.2530e-02, -6.4140e-03, -5.1237e-03, -1.4038e-04,\n",
       "         1.2880e-02,  1.1401e+00,  3.8179e-01,  2.3827e+00,  5.8054e-01,\n",
       "         1.8066e+00,  9.8738e-01], grad_fn=<SelectBackward0>)"
      ]
     },
     "execution_count": 17,
     "metadata": {},
     "output_type": "execute_result"
    }
   ],
   "source": [
    "pred_pytorch[0]"
   ]
  },
  {
   "cell_type": "code",
   "execution_count": 18,
   "id": "b7a7a395",
   "metadata": {},
   "outputs": [
    {
     "name": "stderr",
     "output_type": "stream",
     "text": [
      "/home/b/b309162/.conda/envs/lightning_gpu_V_pytorch/lib/python3.10/site-packages/torch/jit/_trace.py:992: TracerWarning: Output nr 1. of the traced function does not match the corresponding output of the Python function. Detailed error:\n",
      "Tensor-likes are not close!\n",
      "\n",
      "Mismatched elements: 1102081 / 1548288 (71.2%)\n",
      "Greatest absolute difference: 2.8962734937667847 at index (7874, 91) (up to 1e-05 allowed)\n",
      "Greatest relative difference: inf at index (560, 86) (up to 1e-05 allowed)\n",
      "  _check_trace(\n"
     ]
    }
   ],
   "source": [
    "#get weights and biases \n",
    "module = to.jit.trace(ANN_1_torch.forward, to.from_numpy(val_gen_II[300][0]))"
   ]
  },
  {
   "cell_type": "code",
   "execution_count": 19,
   "id": "9032dc19",
   "metadata": {},
   "outputs": [
    {
     "name": "stderr",
     "output_type": "stream",
     "text": [
      "/home/b/b309162/.conda/envs/lightning_gpu_V_pytorch/lib/python3.10/site-packages/torch/jit/_trace.py:992: TracerWarning: Output nr 1. of the traced function does not match the corresponding output of the Python function. Detailed error:\n",
      "Tensor-likes are not close!\n",
      "\n",
      "Mismatched elements: 1101555 / 1548288 (71.1%)\n",
      "Greatest absolute difference: 3.8325085639953613 at index (6198, 91) (up to 1e-05 allowed)\n",
      "Greatest relative difference: inf at index (7631, 104) (up to 1e-05 allowed)\n",
      "  _check_trace(\n"
     ]
    }
   ],
   "source": [
    "# and the same to save the model\n",
    "mod = to.jit.trace(ANN_1_torch, to.from_numpy(val_gen_II[300][0]))"
   ]
  },
  {
   "cell_type": "code",
   "execution_count": 20,
   "id": "27cbe965-3bc4-4e05-b16b-bcc5cc18f2cd",
   "metadata": {},
   "outputs": [
    {
     "data": {
      "text/plain": [
       "<matplotlib.legend.Legend at 0x7ffb140b4ac0>"
      ]
     },
     "execution_count": 20,
     "metadata": {},
     "output_type": "execute_result"
    },
    {
     "data": {
      "image/png": "[encoded data removed]",
      "text/plain": [
       "<Figure size 1152x288 with 1 Axes>"
      ]
     },
     "metadata": {
      "needs_background": "light"
     },
     "output_type": "display_data"
    }
   ],
   "source": [
    "plt.figure(1,(16,4))\n",
    "plt.plot(pred_keras[100:1000,106],label='keras output')\n",
    "plt.plot(pred_pytorch.detach().numpy()[100:1000,106],label='pytorch output')\n",
    "plt.legend(fontsize=15)"
   ]
  },
  {
   "cell_type": "code",
   "execution_count": 21,
   "id": "9a757019-6cc5-4731-9b41-f88dae084a07",
   "metadata": {},
   "outputs": [],
   "source": [
    "a=np.isclose(pred_keras,pred_pytorch.detach().numpy(),atol=2E-6)"
   ]
  },
  {
   "cell_type": "code",
   "execution_count": 22,
   "id": "a09e3848-0102-4dba-b22c-9af8422638d8",
   "metadata": {},
   "outputs": [
    {
     "data": {
      "text/plain": [
       "(13824, 112)"
      ]
     },
     "execution_count": 22,
     "metadata": {},
     "output_type": "execute_result"
    }
   ],
   "source": [
    "a.shape"
   ]
  },
  {
   "cell_type": "code",
   "execution_count": 23,
   "id": "4eac9b76-87a8-4d87-a227-a2705233a119",
   "metadata": {},
   "outputs": [
    {
     "data": {
      "text/plain": [
       "1127484"
      ]
     },
     "execution_count": 23,
     "metadata": {},
     "output_type": "execute_result"
    }
   ],
   "source": [
    "np.where(a==False)[0].size"
   ]
  },
  {
   "cell_type": "code",
   "execution_count": 24,
   "id": "a79d2294-a7a1-4e09-a9ea-967a31a37e6c",
   "metadata": {},
   "outputs": [
    {
     "data": {
      "text/plain": [
       "420804"
      ]
     },
     "execution_count": 24,
     "metadata": {},
     "output_type": "execute_result"
    }
   ],
   "source": [
    "np.where(a==True)[0].size"
   ]
  },
  {
   "cell_type": "code",
   "execution_count": 25,
   "id": "52500c65-9ebc-44d9-8f62-00ad47b99134",
   "metadata": {},
   "outputs": [
    {
     "data": {
      "text/plain": [
       "<matplotlib.colorbar.Colorbar at 0x7ff8f47c64d0>"
      ]
     },
     "execution_count": 25,
     "metadata": {},
     "output_type": "execute_result"
    },
    {
     "data": {
      "image/png": "[encoded data removed]",
      "text/plain": [
       "<Figure size 1152x288 with 4 Axes>"
      ]
     },
     "metadata": {
      "needs_background": "light"
     },
     "output_type": "display_data"
    }
   ],
   "source": [
    "plt.figure(1,(16,4))\n",
    "plt.subplot(1,2,1)\n",
    "plt.pcolor(pred_keras[0:1000])\n",
    "plt.colorbar()\n",
    "plt.subplot(1,2,2)\n",
    "plt.pcolor(pred_pytorch.detach().numpy()[0:1000])\n",
    "plt.colorbar()"
   ]
  },
  {
   "cell_type": "code",
   "execution_count": 26,
   "id": "86735c1c-c0d9-480a-897b-df222342fbfb",
   "metadata": {},
   "outputs": [
    {
     "data": {
      "text/plain": [
       "[<matplotlib.lines.Line2D at 0x7ff8f46ad0f0>]"
      ]
     },
     "execution_count": 26,
     "metadata": {},
     "output_type": "execute_result"
    },
    {
     "data": {
      "image/png": "[encoded data removed]",
      "text/plain": [
       "<Figure size 432x288 with 1 Axes>"
      ]
     },
     "metadata": {
      "needs_background": "light"
     },
     "output_type": "display_data"
    }
   ],
   "source": [
    "plt.plot(np.where(pred_keras-pred_pytorch.detach().numpy()>=1E-6)[1],'x')#np.max(pred_keras-pred_pytorch.detach().numpy()))"
   ]
  },
  {
   "cell_type": "code",
   "execution_count": 27,
   "id": "5e5571e5-0583-421b-99bf-e36b5170b4da",
   "metadata": {},
   "outputs": [],
   "source": [
    "#save model + weights and biases \n",
    "to.save(ANN_1_torch,'real_geography/ANNs/ANN_1/ANN_1_lin_dr_out_0_01_torch.pt')"
   ]
  },
  {
   "cell_type": "code",
   "execution_count": 28,
   "id": "635dbf73",
   "metadata": {},
   "outputs": [],
   "source": [
    "# jit version that is used for offline analysis\n",
    "to.jit.save(mod,'real_geography/ANNs/ANN_1/ANN_1_lin_dr_out_0_01_torch_jit.pt')"
   ]
  },
  {
   "cell_type": "code",
   "execution_count": null,
   "id": "1f4a8c9d",
   "metadata": {},
   "outputs": [],
   "source": []
  }
 ],
 "metadata": {
  "kernelspec": {
   "display_name": "lightning_gpu_V_pytorch",
   "language": "python",
   "name": "lightning_gpu_v_pytorch"
  },
  "language_info": {
   "codemirror_mode": {
    "name": "ipython",
    "version": 3
   },
   "file_extension": ".py",
   "mimetype": "text/x-python",
   "name": "python",
   "nbconvert_exporter": "python",
   "pygments_lexer": "ipython3",
   "version": "3.10.4"
  }
 },
 "nbformat": 4,
 "nbformat_minor": 5
}
